{
  "nbformat": 4,
  "nbformat_minor": 0,
  "metadata": {
    "colab": {
      "provenance": [],
      "authorship_tag": "ABX9TyNHtYlJ/DhL+z9QzbZLj0/Y",
      "include_colab_link": true
    },
    "kernelspec": {
      "name": "python3",
      "display_name": "Python 3"
    },
    "language_info": {
      "name": "python"
    }
  },
  "cells": [
    {
      "cell_type": "markdown",
      "metadata": {
        "id": "view-in-github",
        "colab_type": "text"
      },
      "source": [
        "<a href=\"https://colab.research.google.com/github/naomi-fragoso/Practicas/blob/main/Pr%C3%A1ctica_1_Cliente.ipynb\" target=\"_parent\"><img src=\"https://colab.research.google.com/assets/colab-badge.svg\" alt=\"Open In Colab\"/></a>"
      ]
    },
    {
      "cell_type": "code",
      "execution_count": null,
      "metadata": {
        "colab": {
          "base_uri": "https://localhost:8080/"
        },
        "id": "hrb3AAFNqlbF",
        "outputId": "7bf00437-eebf-4c68-a176-6163c1283607"
      },
      "outputs": [
        {
          "output_type": "stream",
          "name": "stdout",
          "text": [
            "Ingrese su nombre:Naomi\n",
            "Hola, Naomi.¡Bienvenido a CECYTEM COACALCO!\n",
            "Ingrese su edad actualmente:16\n",
            "En 20 años tendrás 36 años.\n"
          ]
        }
      ],
      "source": [
        "# Solicita al usuario ingresar su nombre\n",
        "name = input(\"Ingrese su nombre:\")\n",
        "\n",
        "# Imprime un mensaje utilizando la variable\n",
        "print(\"Hola, \" + name + \".¡Bienvenido a CECYTEM COACALCO!\")\n",
        "\n",
        "# Uso de variables para cálculos simples\n",
        "ed = int(input(\"Ingrese su edad actualmente:\"))\n",
        "ed_en_20_anios = ed + 20\n",
        "\n",
        "# Imprime el resultado\n",
        "print(\"En 20 años tendrás\", ed_en_20_anios, \"años.\")"
      ]
    },
    {
      "cell_type": "code",
      "source": [
        "# Definición de variables\n",
        "name = \"Santiago\"\n",
        "ed = 16\n",
        "est = 1.70\n",
        "\n",
        "# Imprime información utilizando las variables\n",
        "print(\"Nombre: \", name)\n",
        "print(\"Edad: \", ed, \"años\")\n",
        "print(\"Estatura: \", est, \"metros\")\n",
        "\n",
        "#Realiza operacions matemáticas\n",
        "suma_ed_est = ed+est\n",
        "resta_ed_est = ed-est\n",
        "mult_ed_est = ed*est\n",
        "div_ed_est = ed/est\n",
        "\n",
        "#Imprime los resultados de las operaciones\n",
        "print(\"Suma de edad y estatura:\", suma_ed_est)\n",
        "print(\"Resta de edad y estatura:\", resta_ed_est)\n",
        "print(\"Multiplicación de edad y estatura:\", mult_ed_est)\n",
        "print(\"División de edad y estatura:\", div_ed_est)\n",
        "\n",
        "\n",
        "\n",
        "\n"
      ],
      "metadata": {
        "colab": {
          "base_uri": "https://localhost:8080/"
        },
        "id": "GSLwlsPMuC4e",
        "outputId": "50e418c9-1d10-4aa0-ddd8-3d5e2e621332"
      },
      "execution_count": null,
      "outputs": [
        {
          "output_type": "stream",
          "name": "stdout",
          "text": [
            "Nombre:  Santiago\n",
            "Edad:  16 años\n",
            "Estatura:  1.7 metros\n",
            "Suma de edad y estatura: 17.7\n",
            "Resta de edad y estatura: 14.3\n",
            "Multiplicación de edad y estatura: 27.2\n",
            "División de edad y estatura: 9.411764705882353\n"
          ]
        }
      ]
    },
    {
      "cell_type": "code",
      "source": [
        "#Uso de variables para almacenar información\n",
        "pa = \"Francia\"\n",
        "cap = \"Paris\"\n",
        "pob = \"67650000000\"\n",
        "\n",
        "#Imprime información utilizando var\n",
        "print(\"Pais:\", pa)\n",
        "print(\"Capital:\", cap)\n",
        "print(\"Población:\", pob)\n",
        "\n",
        "#Solicita al us igresar un no.\n",
        "num_ing =float(input(\"Ingresa un número decimal: \"))\n",
        "\n",
        "#Realiza una op. con el numero ingresado\n",
        "res = num_ing*2\n",
        "\n",
        "#Resultado\n",
        "print(\"El doble del número ingresado es: \", res)\n"
      ],
      "metadata": {
        "colab": {
          "base_uri": "https://localhost:8080/"
        },
        "id": "eNw7d2APyJVP",
        "outputId": "9584ddca-f699-487f-9c75-0773652ee593"
      },
      "execution_count": null,
      "outputs": [
        {
          "output_type": "stream",
          "name": "stdout",
          "text": [
            "Pais: Francia\n",
            "Capital: Paris\n",
            "Población: 67650000000\n",
            "Ingresa un número decimal: 2.2\n",
            "El doble del número ingresado es:  4.4\n"
          ]
        }
      ]
    },
    {
      "cell_type": "code",
      "source": [],
      "metadata": {
        "id": "x3qqGhaI0gEG"
      },
      "execution_count": null,
      "outputs": []
    }
  ]
}